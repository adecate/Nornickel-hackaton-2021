{
  "nbformat": 4,
  "nbformat_minor": 0,
  "metadata": {
    "kernelspec": {
      "display_name": "Python 3",
      "language": "python",
      "name": "python3"
    },
    "language_info": {
      "codemirror_mode": {
        "name": "ipython",
        "version": 3
      },
      "file_extension": ".py",
      "mimetype": "text/x-python",
      "name": "python",
      "nbconvert_exporter": "python",
      "pygments_lexer": "ipython3",
      "version": "3.8.5"
    },
    "toc": {
      "base_numbering": 1,
      "nav_menu": {},
      "number_sections": true,
      "sideBar": true,
      "skip_h1_title": false,
      "title_cell": "Table of Contents",
      "title_sidebar": "Contents",
      "toc_cell": false,
      "toc_position": {},
      "toc_section_display": true,
      "toc_window_display": true
    },
    "colab": {
      "name": "data_exp.ipynb",
      "provenance": []
    }
  },
  "cells": [
    {
      "cell_type": "code",
      "metadata": {
        "ExecuteTime": {
          "end_time": "2021-04-14T07:02:41.777559Z",
          "start_time": "2021-04-14T07:02:38.420796Z"
        },
        "id": "W1jWqWMgA-Ag"
      },
      "source": [
        "import pandas as pd\n",
        "import numpy as np\n",
        "from sklearn.ensemble import RandomForestClassifier\n",
        "from sklearn.model_selection import train_test_split\n",
        "from sklearn.metrics import precision_recall_curve\n",
        "import matplotlib.pyplot as plt\n",
        "\n",
        "pd.set_option('display.max_columns', 1000)\n",
        "pd.set_option('display.max_rows', 1000)"
      ],
      "execution_count": null,
      "outputs": []
    },
    {
      "cell_type": "code",
      "metadata": {
        "ExecuteTime": {
          "end_time": "2021-04-14T07:02:43.795836Z",
          "start_time": "2021-04-14T07:02:41.777559Z"
        },
        "id": "SfWvj9QuA-Ap"
      },
      "source": [
        "# Считывание данных\n",
        "\n",
        "sot = pd.read_csv('data\\sotrudniki.csv', sep = ';')\n",
        "rod = pd.read_csv('rodstvenniki.csv', sep = ';')\n",
        "ogrv = pd.read_csv('data\\OGRV.csv', sep = ';')"
      ],
      "execution_count": null,
      "outputs": []
    },
    {
      "cell_type": "code",
      "metadata": {
        "id": "_830WoChA-Ap",
        "outputId": "4fe30b78-423b-45e7-f26d-0625ee454986"
      },
      "source": [
        "sot.info()"
      ],
      "execution_count": null,
      "outputs": [
        {
          "output_type": "stream",
          "text": [
            "<class 'pandas.core.frame.DataFrame'>\n",
            "RangeIndex: 99214 entries, 0 to 99213\n",
            "Data columns (total 23 columns):\n",
            " #   Column                   Non-Null Count  Dtype  \n",
            "---  ------                   --------------  -----  \n",
            " 0   hash_tab_num             99214 non-null  int64  \n",
            " 1   date                     99214 non-null  object \n",
            " 2   date_of_birth            99214 non-null  int64  \n",
            " 3   is_local                 99214 non-null  int64  \n",
            " 4   gender                   99214 non-null  object \n",
            " 5   category                 97944 non-null  object \n",
            " 6   name_post_lvl4           66188 non-null  object \n",
            " 7   name_post_lvl5           54222 non-null  object \n",
            " 8   prof_post_augment        97944 non-null  object \n",
            " 9   razryad_post             99214 non-null  int64  \n",
            " 10  name_fact_lvl4           66150 non-null  object \n",
            " 11  name_fact_lvl5           54188 non-null  object \n",
            " 12  prof_fact_augment        99214 non-null  object \n",
            " 13  razryad_fact             99214 non-null  int64  \n",
            " 14  married                  86724 non-null  object \n",
            " 15  child_num                99214 non-null  int64  \n",
            " 16  work_experience_company  91553 non-null  float64\n",
            " 17  work_experience_factory  91553 non-null  float64\n",
            " 18  work_experience_all      91553 non-null  float64\n",
            " 19  education                99034 non-null  object \n",
            " 20  sick                     99214 non-null  int64  \n",
            " 21  home_to_work_distance    89528 non-null  float64\n",
            " 22  home_to_work_duration    89528 non-null  float64\n",
            "dtypes: float64(5), int64(7), object(11)\n",
            "memory usage: 17.4+ MB\n"
          ],
          "name": "stdout"
        }
      ]
    },
    {
      "cell_type": "code",
      "metadata": {
        "id": "OBwOV7NKA-Aq",
        "outputId": "bc0f9c23-4041-449a-9f6a-633e1c726153"
      },
      "source": [
        "sot.describe()"
      ],
      "execution_count": null,
      "outputs": [
        {
          "output_type": "execute_result",
          "data": {
            "text/html": [
              "<div>\n",
              "<style scoped>\n",
              "    .dataframe tbody tr th:only-of-type {\n",
              "        vertical-align: middle;\n",
              "    }\n",
              "\n",
              "    .dataframe tbody tr th {\n",
              "        vertical-align: top;\n",
              "    }\n",
              "\n",
              "    .dataframe thead th {\n",
              "        text-align: right;\n",
              "    }\n",
              "</style>\n",
              "<table border=\"1\" class=\"dataframe\">\n",
              "  <thead>\n",
              "    <tr style=\"text-align: right;\">\n",
              "      <th></th>\n",
              "      <th>hash_tab_num</th>\n",
              "      <th>date_of_birth</th>\n",
              "      <th>is_local</th>\n",
              "      <th>razryad_post</th>\n",
              "      <th>razryad_fact</th>\n",
              "      <th>child_num</th>\n",
              "      <th>work_experience_company</th>\n",
              "      <th>work_experience_factory</th>\n",
              "      <th>work_experience_all</th>\n",
              "      <th>sick</th>\n",
              "      <th>home_to_work_distance</th>\n",
              "      <th>home_to_work_duration</th>\n",
              "    </tr>\n",
              "  </thead>\n",
              "  <tbody>\n",
              "    <tr>\n",
              "      <th>count</th>\n",
              "      <td>99214.000000</td>\n",
              "      <td>99214.000000</td>\n",
              "      <td>99214.000000</td>\n",
              "      <td>99214.000000</td>\n",
              "      <td>99214.000000</td>\n",
              "      <td>99214.000000</td>\n",
              "      <td>91553.000000</td>\n",
              "      <td>91553.000000</td>\n",
              "      <td>91553.000000</td>\n",
              "      <td>99214.000000</td>\n",
              "      <td>89528.000000</td>\n",
              "      <td>89528.000000</td>\n",
              "    </tr>\n",
              "    <tr>\n",
              "      <th>mean</th>\n",
              "      <td>1065.272028</td>\n",
              "      <td>1979.519302</td>\n",
              "      <td>0.701453</td>\n",
              "      <td>3.460610</td>\n",
              "      <td>3.420485</td>\n",
              "      <td>0.969662</td>\n",
              "      <td>12.545913</td>\n",
              "      <td>12.523860</td>\n",
              "      <td>16.078982</td>\n",
              "      <td>0.118401</td>\n",
              "      <td>4694.404578</td>\n",
              "      <td>7.194537</td>\n",
              "    </tr>\n",
              "    <tr>\n",
              "      <th>std</th>\n",
              "      <td>648.786671</td>\n",
              "      <td>10.589874</td>\n",
              "      <td>0.457623</td>\n",
              "      <td>1.429009</td>\n",
              "      <td>1.482239</td>\n",
              "      <td>0.916404</td>\n",
              "      <td>10.723272</td>\n",
              "      <td>10.733127</td>\n",
              "      <td>11.075712</td>\n",
              "      <td>0.323084</td>\n",
              "      <td>841.232532</td>\n",
              "      <td>1.495198</td>\n",
              "    </tr>\n",
              "    <tr>\n",
              "      <th>min</th>\n",
              "      <td>0.000000</td>\n",
              "      <td>1944.000000</td>\n",
              "      <td>0.000000</td>\n",
              "      <td>0.000000</td>\n",
              "      <td>0.000000</td>\n",
              "      <td>0.000000</td>\n",
              "      <td>0.000000</td>\n",
              "      <td>0.000000</td>\n",
              "      <td>0.000000</td>\n",
              "      <td>0.000000</td>\n",
              "      <td>2463.800000</td>\n",
              "      <td>3.113333</td>\n",
              "    </tr>\n",
              "    <tr>\n",
              "      <th>25%</th>\n",
              "      <td>517.000000</td>\n",
              "      <td>1972.000000</td>\n",
              "      <td>0.000000</td>\n",
              "      <td>3.000000</td>\n",
              "      <td>3.000000</td>\n",
              "      <td>0.000000</td>\n",
              "      <td>2.000000</td>\n",
              "      <td>2.000000</td>\n",
              "      <td>6.000000</td>\n",
              "      <td>0.000000</td>\n",
              "      <td>4171.800000</td>\n",
              "      <td>6.463333</td>\n",
              "    </tr>\n",
              "    <tr>\n",
              "      <th>50%</th>\n",
              "      <td>1030.000000</td>\n",
              "      <td>1980.000000</td>\n",
              "      <td>1.000000</td>\n",
              "      <td>4.000000</td>\n",
              "      <td>4.000000</td>\n",
              "      <td>1.000000</td>\n",
              "      <td>11.000000</td>\n",
              "      <td>11.000000</td>\n",
              "      <td>15.000000</td>\n",
              "      <td>0.000000</td>\n",
              "      <td>4953.500000</td>\n",
              "      <td>7.230000</td>\n",
              "    </tr>\n",
              "    <tr>\n",
              "      <th>75%</th>\n",
              "      <td>1553.000000</td>\n",
              "      <td>1988.000000</td>\n",
              "      <td>1.000000</td>\n",
              "      <td>4.000000</td>\n",
              "      <td>4.000000</td>\n",
              "      <td>2.000000</td>\n",
              "      <td>21.000000</td>\n",
              "      <td>21.000000</td>\n",
              "      <td>25.000000</td>\n",
              "      <td>0.000000</td>\n",
              "      <td>5293.500000</td>\n",
              "      <td>8.136667</td>\n",
              "    </tr>\n",
              "    <tr>\n",
              "      <th>max</th>\n",
              "      <td>2652.000000</td>\n",
              "      <td>2001.000000</td>\n",
              "      <td>1.000000</td>\n",
              "      <td>6.000000</td>\n",
              "      <td>6.000000</td>\n",
              "      <td>6.000000</td>\n",
              "      <td>42.000000</td>\n",
              "      <td>42.000000</td>\n",
              "      <td>48.000000</td>\n",
              "      <td>1.000000</td>\n",
              "      <td>5995.300000</td>\n",
              "      <td>9.888333</td>\n",
              "    </tr>\n",
              "  </tbody>\n",
              "</table>\n",
              "</div>"
            ],
            "text/plain": [
              "       hash_tab_num  date_of_birth      is_local  razryad_post  razryad_fact  \\\n",
              "count  99214.000000   99214.000000  99214.000000  99214.000000  99214.000000   \n",
              "mean    1065.272028    1979.519302      0.701453      3.460610      3.420485   \n",
              "std      648.786671      10.589874      0.457623      1.429009      1.482239   \n",
              "min        0.000000    1944.000000      0.000000      0.000000      0.000000   \n",
              "25%      517.000000    1972.000000      0.000000      3.000000      3.000000   \n",
              "50%     1030.000000    1980.000000      1.000000      4.000000      4.000000   \n",
              "75%     1553.000000    1988.000000      1.000000      4.000000      4.000000   \n",
              "max     2652.000000    2001.000000      1.000000      6.000000      6.000000   \n",
              "\n",
              "          child_num  work_experience_company  work_experience_factory  \\\n",
              "count  99214.000000             91553.000000             91553.000000   \n",
              "mean       0.969662                12.545913                12.523860   \n",
              "std        0.916404                10.723272                10.733127   \n",
              "min        0.000000                 0.000000                 0.000000   \n",
              "25%        0.000000                 2.000000                 2.000000   \n",
              "50%        1.000000                11.000000                11.000000   \n",
              "75%        2.000000                21.000000                21.000000   \n",
              "max        6.000000                42.000000                42.000000   \n",
              "\n",
              "       work_experience_all          sick  home_to_work_distance  \\\n",
              "count         91553.000000  99214.000000           89528.000000   \n",
              "mean             16.078982      0.118401            4694.404578   \n",
              "std              11.075712      0.323084             841.232532   \n",
              "min               0.000000      0.000000            2463.800000   \n",
              "25%               6.000000      0.000000            4171.800000   \n",
              "50%              15.000000      0.000000            4953.500000   \n",
              "75%              25.000000      0.000000            5293.500000   \n",
              "max              48.000000      1.000000            5995.300000   \n",
              "\n",
              "       home_to_work_duration  \n",
              "count           89528.000000  \n",
              "mean                7.194537  \n",
              "std                 1.495198  \n",
              "min                 3.113333  \n",
              "25%                 6.463333  \n",
              "50%                 7.230000  \n",
              "75%                 8.136667  \n",
              "max                 9.888333  "
            ]
          },
          "metadata": {
            "tags": []
          },
          "execution_count": 101
        }
      ]
    },
    {
      "cell_type": "code",
      "metadata": {
        "id": "k6_eEDaaA-Ar",
        "outputId": "15e4520b-f671-4dd7-da95-228e91c82b97"
      },
      "source": [
        "sot.child_num.value_counts()"
      ],
      "execution_count": null,
      "outputs": [
        {
          "output_type": "execute_result",
          "data": {
            "text/plain": [
              "0    36693\n",
              "1    34429\n",
              "2    23224\n",
              "3     4311\n",
              "4      428\n",
              "5       92\n",
              "6       37\n",
              "Name: child_num, dtype: int64"
            ]
          },
          "metadata": {
            "tags": []
          },
          "execution_count": 94
        }
      ]
    },
    {
      "cell_type": "code",
      "metadata": {
        "id": "Nx2TSzCGA-Ar",
        "outputId": "6c2468bc-193c-4e34-8932-3e4861f7451b"
      },
      "source": [
        "sot.married.value_counts()"
      ],
      "execution_count": null,
      "outputs": [
        {
          "output_type": "execute_result",
          "data": {
            "text/plain": [
              "жен/зм    48755\n",
              "хол/нз    30173\n",
              "разв.      6819\n",
              "ГрБрак      760\n",
              "вдов.       217\n",
              "Name: married, dtype: int64"
            ]
          },
          "metadata": {
            "tags": []
          },
          "execution_count": 93
        }
      ]
    },
    {
      "cell_type": "code",
      "metadata": {
        "id": "G50b2LN_A-As",
        "outputId": "1d63edde-e2c4-4ceb-90f4-3ead24f6f9b8"
      },
      "source": [
        "sot.name_fact_lvl4.value_counts()"
      ],
      "execution_count": null,
      "outputs": [
        {
          "output_type": "execute_result",
          "data": {
            "text/plain": [
              "Отделение_8     14508\n",
              "Отделение_1     13170\n",
              "Отделение_2     11563\n",
              "Отделение_6      7934\n",
              "Отделение_5      6097\n",
              "Отделение_3      4608\n",
              "Отделение_11     2910\n",
              "Отделение_4      2730\n",
              "Отделение_7      1384\n",
              "Отделение_10      880\n",
              "Отделение_9       366\n",
              "Name: name_fact_lvl4, dtype: int64"
            ]
          },
          "metadata": {
            "tags": []
          },
          "execution_count": 84
        }
      ]
    },
    {
      "cell_type": "code",
      "metadata": {
        "id": "4VwUcwIWA-As",
        "outputId": "372ac69e-e195-4b60-bf38-f99bbdf7c5fa"
      },
      "source": [
        "sot.name_post_lvl5.value_counts()"
      ],
      "execution_count": null,
      "outputs": [
        {
          "output_type": "execute_result",
          "data": {
            "text/plain": [
              "передел 7     7606\n",
              "передел 9     6844\n",
              "передел 1     5879\n",
              "передел 2     5828\n",
              "передел 5     5660\n",
              "передел 4     4427\n",
              "передел 11    3716\n",
              "передел 14    3288\n",
              "передел 13    3040\n",
              "передел 12    2279\n",
              "передел 3     1571\n",
              "передел 6      816\n",
              "передел 17     564\n",
              "передел 10     560\n",
              "передел 8      551\n",
              "передел 18     546\n",
              "передел 15     437\n",
              "передел 19     236\n",
              "передел 20     212\n",
              "передел 16     162\n",
              "Name: name_post_lvl5, dtype: int64"
            ]
          },
          "metadata": {
            "tags": []
          },
          "execution_count": 61
        }
      ]
    },
    {
      "cell_type": "code",
      "metadata": {
        "id": "iRIiHRLXA-As",
        "outputId": "48722afc-5c8a-4d80-fff1-f6f4a66b8e1c"
      },
      "source": [
        "sot.name_post_lvl4.value_counts()"
      ],
      "execution_count": null,
      "outputs": [
        {
          "output_type": "execute_result",
          "data": {
            "text/plain": [
              "Отделение_8     14450\n",
              "Отделение_1     13074\n",
              "Отделение_2     11671\n",
              "Отделение_6      7991\n",
              "Отделение_5      6090\n",
              "Отделение_3      4787\n",
              "Отделение_11     2903\n",
              "Отделение_4      2701\n",
              "Отделение_7      1343\n",
              "Отделение_10      857\n",
              "Отделение_9       321\n",
              "Name: name_post_lvl4, dtype: int64"
            ]
          },
          "metadata": {
            "tags": []
          },
          "execution_count": 58
        }
      ]
    },
    {
      "cell_type": "code",
      "metadata": {
        "id": "DJNwjdzQA-At",
        "outputId": "b1254298-7e5a-4402-9739-7f1e7db78093"
      },
      "source": [
        "sot.category.value_counts()"
      ],
      "execution_count": null,
      "outputs": [
        {
          "output_type": "execute_result",
          "data": {
            "text/plain": [
              "Рабочие         92491\n",
              "Руководители     3510\n",
              "Специалисты      1837\n",
              "Служащие          106\n",
              "Name: category, dtype: int64"
            ]
          },
          "metadata": {
            "tags": []
          },
          "execution_count": 59
        }
      ]
    },
    {
      "cell_type": "code",
      "metadata": {
        "id": "PG4ctXEOA-At",
        "outputId": "a9f45c72-c9dd-433f-97a1-bfb2c2e2d083"
      },
      "source": [
        "sot.head()"
      ],
      "execution_count": null,
      "outputs": [
        {
          "output_type": "execute_result",
          "data": {
            "text/html": [
              "<div>\n",
              "<style scoped>\n",
              "    .dataframe tbody tr th:only-of-type {\n",
              "        vertical-align: middle;\n",
              "    }\n",
              "\n",
              "    .dataframe tbody tr th {\n",
              "        vertical-align: top;\n",
              "    }\n",
              "\n",
              "    .dataframe thead th {\n",
              "        text-align: right;\n",
              "    }\n",
              "</style>\n",
              "<table border=\"1\" class=\"dataframe\">\n",
              "  <thead>\n",
              "    <tr style=\"text-align: right;\">\n",
              "      <th></th>\n",
              "      <th>hash_tab_num</th>\n",
              "      <th>date</th>\n",
              "      <th>date_of_birth</th>\n",
              "      <th>is_local</th>\n",
              "      <th>gender</th>\n",
              "      <th>category</th>\n",
              "      <th>name_post_lvl4</th>\n",
              "      <th>name_post_lvl5</th>\n",
              "      <th>prof_post_augment</th>\n",
              "      <th>razryad_post</th>\n",
              "      <th>name_fact_lvl4</th>\n",
              "      <th>name_fact_lvl5</th>\n",
              "      <th>prof_fact_augment</th>\n",
              "      <th>razryad_fact</th>\n",
              "      <th>married</th>\n",
              "      <th>child_num</th>\n",
              "      <th>work_experience_company</th>\n",
              "      <th>work_experience_factory</th>\n",
              "      <th>work_experience_all</th>\n",
              "      <th>education</th>\n",
              "      <th>sick</th>\n",
              "      <th>home_to_work_distance</th>\n",
              "      <th>home_to_work_duration</th>\n",
              "    </tr>\n",
              "  </thead>\n",
              "  <tbody>\n",
              "    <tr>\n",
              "      <th>0</th>\n",
              "      <td>0</td>\n",
              "      <td>2015-04-01</td>\n",
              "      <td>1985</td>\n",
              "      <td>1</td>\n",
              "      <td>мужской</td>\n",
              "      <td>Рабочие</td>\n",
              "      <td>NaN</td>\n",
              "      <td>NaN</td>\n",
              "      <td>Должность_0</td>\n",
              "      <td>3</td>\n",
              "      <td>NaN</td>\n",
              "      <td>NaN</td>\n",
              "      <td>Должность_0</td>\n",
              "      <td>3</td>\n",
              "      <td>хол/нз</td>\n",
              "      <td>1</td>\n",
              "      <td>9.0</td>\n",
              "      <td>9.0</td>\n",
              "      <td>10.0</td>\n",
              "      <td>Среднее(полное)общее</td>\n",
              "      <td>0</td>\n",
              "      <td>NaN</td>\n",
              "      <td>NaN</td>\n",
              "    </tr>\n",
              "    <tr>\n",
              "      <th>1</th>\n",
              "      <td>0</td>\n",
              "      <td>2015-05-01</td>\n",
              "      <td>1985</td>\n",
              "      <td>1</td>\n",
              "      <td>мужской</td>\n",
              "      <td>Рабочие</td>\n",
              "      <td>NaN</td>\n",
              "      <td>NaN</td>\n",
              "      <td>Должность_0</td>\n",
              "      <td>3</td>\n",
              "      <td>NaN</td>\n",
              "      <td>NaN</td>\n",
              "      <td>Должность_0</td>\n",
              "      <td>3</td>\n",
              "      <td>хол/нз</td>\n",
              "      <td>1</td>\n",
              "      <td>9.0</td>\n",
              "      <td>9.0</td>\n",
              "      <td>10.0</td>\n",
              "      <td>Среднее(полное)общее</td>\n",
              "      <td>0</td>\n",
              "      <td>NaN</td>\n",
              "      <td>NaN</td>\n",
              "    </tr>\n",
              "    <tr>\n",
              "      <th>2</th>\n",
              "      <td>0</td>\n",
              "      <td>2015-06-01</td>\n",
              "      <td>1985</td>\n",
              "      <td>1</td>\n",
              "      <td>мужской</td>\n",
              "      <td>Рабочие</td>\n",
              "      <td>NaN</td>\n",
              "      <td>NaN</td>\n",
              "      <td>Должность_0</td>\n",
              "      <td>3</td>\n",
              "      <td>NaN</td>\n",
              "      <td>NaN</td>\n",
              "      <td>Должность_0</td>\n",
              "      <td>3</td>\n",
              "      <td>хол/нз</td>\n",
              "      <td>1</td>\n",
              "      <td>9.0</td>\n",
              "      <td>9.0</td>\n",
              "      <td>10.0</td>\n",
              "      <td>Среднее(полное)общее</td>\n",
              "      <td>0</td>\n",
              "      <td>NaN</td>\n",
              "      <td>NaN</td>\n",
              "    </tr>\n",
              "    <tr>\n",
              "      <th>3</th>\n",
              "      <td>0</td>\n",
              "      <td>2015-07-01</td>\n",
              "      <td>1985</td>\n",
              "      <td>1</td>\n",
              "      <td>мужской</td>\n",
              "      <td>Рабочие</td>\n",
              "      <td>NaN</td>\n",
              "      <td>NaN</td>\n",
              "      <td>Должность_0</td>\n",
              "      <td>3</td>\n",
              "      <td>NaN</td>\n",
              "      <td>NaN</td>\n",
              "      <td>Должность_0</td>\n",
              "      <td>3</td>\n",
              "      <td>хол/нз</td>\n",
              "      <td>1</td>\n",
              "      <td>9.0</td>\n",
              "      <td>9.0</td>\n",
              "      <td>10.0</td>\n",
              "      <td>Среднее(полное)общее</td>\n",
              "      <td>0</td>\n",
              "      <td>NaN</td>\n",
              "      <td>NaN</td>\n",
              "    </tr>\n",
              "    <tr>\n",
              "      <th>4</th>\n",
              "      <td>0</td>\n",
              "      <td>2015-08-01</td>\n",
              "      <td>1985</td>\n",
              "      <td>1</td>\n",
              "      <td>мужской</td>\n",
              "      <td>Рабочие</td>\n",
              "      <td>NaN</td>\n",
              "      <td>NaN</td>\n",
              "      <td>Должность_0</td>\n",
              "      <td>3</td>\n",
              "      <td>NaN</td>\n",
              "      <td>NaN</td>\n",
              "      <td>Должность_0</td>\n",
              "      <td>3</td>\n",
              "      <td>хол/нз</td>\n",
              "      <td>1</td>\n",
              "      <td>9.0</td>\n",
              "      <td>9.0</td>\n",
              "      <td>10.0</td>\n",
              "      <td>Среднее(полное)общее</td>\n",
              "      <td>0</td>\n",
              "      <td>NaN</td>\n",
              "      <td>NaN</td>\n",
              "    </tr>\n",
              "  </tbody>\n",
              "</table>\n",
              "</div>"
            ],
            "text/plain": [
              "   hash_tab_num        date  date_of_birth  is_local   gender category  \\\n",
              "0             0  2015-04-01           1985         1  мужской  Рабочие   \n",
              "1             0  2015-05-01           1985         1  мужской  Рабочие   \n",
              "2             0  2015-06-01           1985         1  мужской  Рабочие   \n",
              "3             0  2015-07-01           1985         1  мужской  Рабочие   \n",
              "4             0  2015-08-01           1985         1  мужской  Рабочие   \n",
              "\n",
              "  name_post_lvl4 name_post_lvl5 prof_post_augment  razryad_post  \\\n",
              "0            NaN            NaN       Должность_0             3   \n",
              "1            NaN            NaN       Должность_0             3   \n",
              "2            NaN            NaN       Должность_0             3   \n",
              "3            NaN            NaN       Должность_0             3   \n",
              "4            NaN            NaN       Должность_0             3   \n",
              "\n",
              "  name_fact_lvl4 name_fact_lvl5 prof_fact_augment  razryad_fact married  \\\n",
              "0            NaN            NaN       Должность_0             3  хол/нз   \n",
              "1            NaN            NaN       Должность_0             3  хол/нз   \n",
              "2            NaN            NaN       Должность_0             3  хол/нз   \n",
              "3            NaN            NaN       Должность_0             3  хол/нз   \n",
              "4            NaN            NaN       Должность_0             3  хол/нз   \n",
              "\n",
              "   child_num  work_experience_company  work_experience_factory  \\\n",
              "0          1                      9.0                      9.0   \n",
              "1          1                      9.0                      9.0   \n",
              "2          1                      9.0                      9.0   \n",
              "3          1                      9.0                      9.0   \n",
              "4          1                      9.0                      9.0   \n",
              "\n",
              "   work_experience_all             education  sick  home_to_work_distance  \\\n",
              "0                 10.0  Среднее(полное)общее     0                    NaN   \n",
              "1                 10.0  Среднее(полное)общее     0                    NaN   \n",
              "2                 10.0  Среднее(полное)общее     0                    NaN   \n",
              "3                 10.0  Среднее(полное)общее     0                    NaN   \n",
              "4                 10.0  Среднее(полное)общее     0                    NaN   \n",
              "\n",
              "   home_to_work_duration  \n",
              "0                    NaN  \n",
              "1                    NaN  \n",
              "2                    NaN  \n",
              "3                    NaN  \n",
              "4                    NaN  "
            ]
          },
          "metadata": {
            "tags": []
          },
          "execution_count": 40
        }
      ]
    },
    {
      "cell_type": "code",
      "metadata": {
        "id": "BZh5g7xpA-At"
      },
      "source": [
        "age=sot.groupby('date_of_birth').sum().sick\n",
        "age=pd.DataFrame(age)\n",
        "age['num']=sot.groupby('date_of_birth').nunique().hash_tab_num\n",
        "age['q']=age.sick/age.num\n"
      ],
      "execution_count": null,
      "outputs": []
    },
    {
      "cell_type": "code",
      "metadata": {
        "id": "wmP9xZibA-Au",
        "outputId": "866bdd6d-4fe3-43cb-f730-7a8c1f4d207b"
      },
      "source": [
        "plt.bar(age.index, age.q)\n",
        "plt.show()"
      ],
      "execution_count": null,
      "outputs": [
        {
          "output_type": "display_data",
          "data": {
            "image/png": "[encoded data removed]",
            "text/plain": [
              "<Figure size 432x288 with 1 Axes>"
            ]
          },
          "metadata": {
            "tags": [],
            "needs_background": "light"
          }
        }
      ]
    },
    {
      "cell_type": "code",
      "metadata": {
        "id": "DeR18APjA-Au",
        "outputId": "014b54d7-8fe2-4dbd-dfc7-b90db9fd1c63"
      },
      "source": [
        "name_post_lvl4=sot.groupby('name_post_lvl4').sum().sick\n",
        "name_post_lvl4=pd.DataFrame(name_post_lvl4)\n",
        "name_post_lvl4['num']=sot.groupby('name_post_lvl4').nunique().hash_tab_num\n",
        "name_post_lvl4['q']=name_post_lvl4.sick/name_post_lvl4.num\n",
        "name_post_lvl4"
      ],
      "execution_count": null,
      "outputs": [
        {
          "output_type": "execute_result",
          "data": {
            "text/html": [
              "<div>\n",
              "<style scoped>\n",
              "    .dataframe tbody tr th:only-of-type {\n",
              "        vertical-align: middle;\n",
              "    }\n",
              "\n",
              "    .dataframe tbody tr th {\n",
              "        vertical-align: top;\n",
              "    }\n",
              "\n",
              "    .dataframe thead th {\n",
              "        text-align: right;\n",
              "    }\n",
              "</style>\n",
              "<table border=\"1\" class=\"dataframe\">\n",
              "  <thead>\n",
              "    <tr style=\"text-align: right;\">\n",
              "      <th></th>\n",
              "      <th>sick</th>\n",
              "      <th>num</th>\n",
              "      <th>q</th>\n",
              "    </tr>\n",
              "    <tr>\n",
              "      <th>name_post_lvl4</th>\n",
              "      <th></th>\n",
              "      <th></th>\n",
              "      <th></th>\n",
              "    </tr>\n",
              "  </thead>\n",
              "  <tbody>\n",
              "    <tr>\n",
              "      <th>Отделение_1</th>\n",
              "      <td>1613</td>\n",
              "      <td>389</td>\n",
              "      <td>4.146530</td>\n",
              "    </tr>\n",
              "    <tr>\n",
              "      <th>Отделение_10</th>\n",
              "      <td>62</td>\n",
              "      <td>30</td>\n",
              "      <td>2.066667</td>\n",
              "    </tr>\n",
              "    <tr>\n",
              "      <th>Отделение_11</th>\n",
              "      <td>498</td>\n",
              "      <td>119</td>\n",
              "      <td>4.184874</td>\n",
              "    </tr>\n",
              "    <tr>\n",
              "      <th>Отделение_2</th>\n",
              "      <td>1322</td>\n",
              "      <td>333</td>\n",
              "      <td>3.969970</td>\n",
              "    </tr>\n",
              "    <tr>\n",
              "      <th>Отделение_3</th>\n",
              "      <td>760</td>\n",
              "      <td>166</td>\n",
              "      <td>4.578313</td>\n",
              "    </tr>\n",
              "    <tr>\n",
              "      <th>Отделение_4</th>\n",
              "      <td>340</td>\n",
              "      <td>104</td>\n",
              "      <td>3.269231</td>\n",
              "    </tr>\n",
              "    <tr>\n",
              "      <th>Отделение_5</th>\n",
              "      <td>474</td>\n",
              "      <td>159</td>\n",
              "      <td>2.981132</td>\n",
              "    </tr>\n",
              "    <tr>\n",
              "      <th>Отделение_6</th>\n",
              "      <td>1282</td>\n",
              "      <td>202</td>\n",
              "      <td>6.346535</td>\n",
              "    </tr>\n",
              "    <tr>\n",
              "      <th>Отделение_7</th>\n",
              "      <td>141</td>\n",
              "      <td>41</td>\n",
              "      <td>3.439024</td>\n",
              "    </tr>\n",
              "    <tr>\n",
              "      <th>Отделение_8</th>\n",
              "      <td>1718</td>\n",
              "      <td>465</td>\n",
              "      <td>3.694624</td>\n",
              "    </tr>\n",
              "    <tr>\n",
              "      <th>Отделение_9</th>\n",
              "      <td>51</td>\n",
              "      <td>8</td>\n",
              "      <td>6.375000</td>\n",
              "    </tr>\n",
              "  </tbody>\n",
              "</table>\n",
              "</div>"
            ],
            "text/plain": [
              "                sick  num         q\n",
              "name_post_lvl4                     \n",
              "Отделение_1     1613  389  4.146530\n",
              "Отделение_10      62   30  2.066667\n",
              "Отделение_11     498  119  4.184874\n",
              "Отделение_2     1322  333  3.969970\n",
              "Отделение_3      760  166  4.578313\n",
              "Отделение_4      340  104  3.269231\n",
              "Отделение_5      474  159  2.981132\n",
              "Отделение_6     1282  202  6.346535\n",
              "Отделение_7      141   41  3.439024\n",
              "Отделение_8     1718  465  3.694624\n",
              "Отделение_9       51    8  6.375000"
            ]
          },
          "metadata": {
            "tags": []
          },
          "execution_count": 75
        }
      ]
    },
    {
      "cell_type": "code",
      "metadata": {
        "id": "mBmbxQK4A-Au",
        "outputId": "9284fc84-44e1-4010-b950-94bdf95d4658"
      },
      "source": [
        "plt.bar(name_post_lvl4.index, name_post_lvl4.q)\n",
        "plt.xticks(rotation=90)\n",
        "plt.show()"
      ],
      "execution_count": null,
      "outputs": [
        {
          "output_type": "display_data",
          "data": {
            "image/png": "[encoded data removed]",
            "text/plain": [
              "<Figure size 432x288 with 1 Axes>"
            ]
          },
          "metadata": {
            "tags": [],
            "needs_background": "light"
          }
        }
      ]
    },
    {
      "cell_type": "code",
      "metadata": {
        "id": "UdVW0_DXA-Av",
        "outputId": "e5068919-0cfd-41f2-892a-dd751cb1418e"
      },
      "source": [
        "exp=sot.groupby('name_fact_lvl4').sum().sick\n",
        "exp=pd.DataFrame(exp)\n",
        "exp['num']=sot.groupby('name_fact_lvl4').nunique().hash_tab_num\n",
        "exp['q']=exp.sick/exp.num\n",
        "plt.bar(exp.index, exp.q)\n",
        "plt.xticks(rotation=90)\n",
        "plt.show()"
      ],
      "execution_count": null,
      "outputs": [
        {
          "output_type": "display_data",
          "data": {
            "image/png": "[encoded data removed]",
            "text/plain": [
              "<Figure size 432x288 with 1 Axes>"
            ]
          },
          "metadata": {
            "tags": [],
            "needs_background": "light"
          }
        }
      ]
    },
    {
      "cell_type": "code",
      "metadata": {
        "id": "gWIC_s7wA-Av",
        "outputId": "0b1348c8-ce12-452a-c64c-b6873e65188a"
      },
      "source": [
        "exp=sot.groupby('name_post_lvl5').sum().sick\n",
        "exp=pd.DataFrame(exp)\n",
        "exp['num']=sot.groupby('name_post_lvl5').nunique().hash_tab_num\n",
        "exp['q']=exp.sick/exp.num\n",
        "plt.bar(exp.index, exp.q)\n",
        "plt.xticks(rotation=90)\n",
        "plt.show()"
      ],
      "execution_count": null,
      "outputs": [
        {
          "output_type": "display_data",
          "data": {
            "image/png": "[encoded data removed]",
            "text/plain": [
              "<Figure size 432x288 with 1 Axes>"
            ]
          },
          "metadata": {
            "tags": [],
            "needs_background": "light"
          }
        }
      ]
    },
    {
      "cell_type": "code",
      "metadata": {
        "id": "Yby7Snf9A-Av",
        "outputId": "1e9ae31e-ee0b-4c6f-d481-4996d82c9423"
      },
      "source": [
        "exp=sot.groupby('name_fact_lvl5').sum().sick\n",
        "exp=pd.DataFrame(exp)\n",
        "exp['num']=sot.groupby('name_fact_lvl5').nunique().hash_tab_num\n",
        "exp['q']=exp.sick/exp.num\n",
        "plt.bar(exp.index, exp.q)\n",
        "plt.xticks(rotation=90)\n",
        "plt.show()"
      ],
      "execution_count": null,
      "outputs": [
        {
          "output_type": "display_data",
          "data": {
            "image/png": "[encoded data removed]",
            "text/plain": [
              "<Figure size 432x288 with 1 Axes>"
            ]
          },
          "metadata": {
            "tags": [],
            "needs_background": "light"
          }
        }
      ]
    },
    {
      "cell_type": "code",
      "metadata": {
        "id": "c_wUZbU-A-Aw",
        "outputId": "22cc1c31-2141-4b56-99fe-1ced1eb55180"
      },
      "source": [
        "exp=sot.groupby('gender').sum().sick\n",
        "exp=pd.DataFrame(exp)\n",
        "exp['num']=sot.groupby('gender').nunique().hash_tab_num\n",
        "exp['q']=exp.sick/exp.num\n",
        "plt.bar(exp.index, exp.q)\n",
        "plt.xticks(rotation=90)\n",
        "plt.show()"
      ],
      "execution_count": null,
      "outputs": [
        {
          "output_type": "display_data",
          "data": {
            "image/png": "[encoded data removed]",
            "text/plain": [
              "<Figure size 432x288 with 1 Axes>"
            ]
          },
          "metadata": {
            "tags": [],
            "needs_background": "light"
          }
        }
      ]
    },
    {
      "cell_type": "code",
      "metadata": {
        "id": "57pHuRukA-Aw",
        "outputId": "c5a79cd2-c50a-4897-bc3c-6d89f0d1b261"
      },
      "source": [
        "exp=sot.groupby('prof_post_augment').sum().sick\n",
        "exp=pd.DataFrame(exp)\n",
        "exp['num']=sot.groupby('prof_post_augment').nunique().hash_tab_num\n",
        "exp['q']=exp.sick/exp.num\n",
        "plt.bar(exp.index, exp.q)\n",
        "plt.xticks(rotation=90)\n",
        "plt.show()"
      ],
      "execution_count": null,
      "outputs": [
        {
          "output_type": "display_data",
          "data": {
            "image/png": "[encoded data removed]",
            "text/plain": [
              "<Figure size 432x288 with 1 Axes>"
            ]
          },
          "metadata": {
            "tags": [],
            "needs_background": "light"
          }
        }
      ]
    },
    {
      "cell_type": "code",
      "metadata": {
        "id": "WYl6J7qzA-Ax",
        "outputId": "f6a70967-a168-47aa-f370-29a41ddb02dd"
      },
      "source": [
        "exp=sot.groupby('prof_fact_augment').sum().sick\n",
        "exp=pd.DataFrame(exp)\n",
        "exp['num']=sot.groupby('prof_fact_augment').nunique().hash_tab_num\n",
        "exp['q']=exp.sick/exp.num\n",
        "plt.bar(exp.index, exp.q)\n",
        "plt.xticks(rotation=90)\n",
        "plt.show()"
      ],
      "execution_count": null,
      "outputs": [
        {
          "output_type": "display_data",
          "data": {
            "image/png": "[encoded data removed]",
            "text/plain": [
              "<Figure size 432x288 with 1 Axes>"
            ]
          },
          "metadata": {
            "tags": [],
            "needs_background": "light"
          }
        }
      ]
    },
    {
      "cell_type": "code",
      "metadata": {
        "id": "AJFzEFo-A-Ax",
        "outputId": "f067e965-ea35-489a-9470-a20f31ce84eb"
      },
      "source": [
        "exp=sot.groupby('razryad_post').sum().sick\n",
        "exp=pd.DataFrame(exp)\n",
        "exp['num']=sot.groupby('razryad_post').nunique().hash_tab_num\n",
        "exp['q']=exp.sick/exp.num\n",
        "plt.bar(exp.index, exp.q)\n",
        "plt.xticks(rotation=90)\n",
        "plt.show()\n"
      ],
      "execution_count": null,
      "outputs": [
        {
          "output_type": "display_data",
          "data": {
            "image/png": "[encoded data removed]",
            "text/plain": [
              "<Figure size 432x288 with 1 Axes>"
            ]
          },
          "metadata": {
            "tags": [],
            "needs_background": "light"
          }
        }
      ]
    },
    {
      "cell_type": "code",
      "metadata": {
        "id": "Pz4rC0JYA-Ax",
        "outputId": "824e8e23-d871-4874-ac24-7484d49b27e4"
      },
      "source": [
        "exp=sot.groupby('razryad_fact').sum().sick\n",
        "exp=pd.DataFrame(exp)\n",
        "exp['num']=sot.groupby('razryad_post').nunique().hash_tab_num\n",
        "exp['q']=exp.sick/exp.num\n",
        "plt.bar(exp.index, exp.q)\n",
        "plt.xticks(rotation=90)\n",
        "plt.show()"
      ],
      "execution_count": null,
      "outputs": [
        {
          "output_type": "display_data",
          "data": {
            "image/png": "[encoded data removed]",
            "text/plain": [
              "<Figure size 432x288 with 1 Axes>"
            ]
          },
          "metadata": {
            "tags": [],
            "needs_background": "light"
          }
        }
      ]
    },
    {
      "cell_type": "code",
      "metadata": {
        "id": "LX5fg5gyA-Ay",
        "outputId": "936f6ba7-2e94-4274-b17c-283e56eea80c"
      },
      "source": [
        "exp=sot.groupby('married').sum().sick\n",
        "exp=pd.DataFrame(exp)\n",
        "exp['num']=sot.groupby('married').nunique().hash_tab_num\n",
        "exp['q']=exp.sick/exp.num\n",
        "plt.bar(exp.index, exp.q)\n",
        "plt.xticks(rotation=90)\n",
        "plt.show()\n"
      ],
      "execution_count": null,
      "outputs": [
        {
          "output_type": "display_data",
          "data": {
            "image/png": "[encoded data removed]",
            "text/plain": [
              "<Figure size 432x288 with 1 Axes>"
            ]
          },
          "metadata": {
            "tags": [],
            "needs_background": "light"
          }
        }
      ]
    },
    {
      "cell_type": "code",
      "metadata": {
        "id": "-qdRzIxbA-Ay",
        "outputId": "a06f0be7-ccb7-4619-a3d7-17bf4e5cbdce"
      },
      "source": [
        "exp=sot.groupby('child_num').sum().sick\n",
        "exp=pd.DataFrame(exp)\n",
        "exp['num']=sot.groupby('child_num').nunique().hash_tab_num\n",
        "exp['q']=exp.sick/exp.num\n",
        "plt.bar(exp.index, exp.q)\n",
        "plt.xticks(rotation=90)\n",
        "plt.show()"
      ],
      "execution_count": null,
      "outputs": [
        {
          "output_type": "display_data",
          "data": {
            "image/png": "[encoded data removed]",
            "text/plain": [
              "<Figure size 432x288 with 1 Axes>"
            ]
          },
          "metadata": {
            "tags": [],
            "needs_background": "light"
          }
        }
      ]
    },
    {
      "cell_type": "code",
      "metadata": {
        "id": "s-bWwIznA-Az",
        "outputId": "f64fade0-9774-4534-df2c-fbc22ac4249e"
      },
      "source": [
        "exp=sot.groupby('work_experience_company').sum().sick\n",
        "exp=pd.DataFrame(exp)\n",
        "exp['num']=sot.groupby('work_experience_company').nunique().hash_tab_num\n",
        "exp['q']=exp.sick/exp.num\n",
        "plt.bar(exp.index, exp.q)\n",
        "plt.xticks(rotation=90)\n",
        "plt.show()"
      ],
      "execution_count": null,
      "outputs": [
        {
          "output_type": "display_data",
          "data": {
            "image/png": "[encoded data removed]",
            "text/plain": [
              "<Figure size 432x288 with 1 Axes>"
            ]
          },
          "metadata": {
            "tags": [],
            "needs_background": "light"
          }
        }
      ]
    },
    {
      "cell_type": "code",
      "metadata": {
        "id": "cs-_vvFxA-A0",
        "outputId": "a6933d77-87df-4161-b364-32ed5ce2e072"
      },
      "source": [
        "exp=sot.groupby('work_experience_factory').sum().sick\n",
        "exp=pd.DataFrame(exp)\n",
        "exp['num']=sot.groupby('work_experience_factory').nunique().hash_tab_num\n",
        "exp['q']=exp.sick/exp.num\n",
        "plt.bar(exp.index, exp.q)\n",
        "plt.xticks(rotation=90)\n",
        "plt.show()"
      ],
      "execution_count": null,
      "outputs": [
        {
          "output_type": "display_data",
          "data": {
            "image/png": "[encoded data removed]",
            "text/plain": [
              "<Figure size 432x288 with 1 Axes>"
            ]
          },
          "metadata": {
            "tags": [],
            "needs_background": "light"
          }
        }
      ]
    },
    {
      "cell_type": "code",
      "metadata": {
        "id": "J4llAWQNA-A0",
        "outputId": "870b462d-bd66-4b6f-8ee7-c79359a1a9dd"
      },
      "source": [
        "exp=sot.groupby('work_experience_all').sum().sick\n",
        "exp=pd.DataFrame(exp)\n",
        "exp['num']=sot.groupby('work_experience_all').nunique().hash_tab_num\n",
        "exp['q']=exp.sick/exp.num\n",
        "plt.bar(exp.index, exp.q)\n",
        "plt.xticks(rotation=90)\n",
        "plt.show()"
      ],
      "execution_count": null,
      "outputs": [
        {
          "output_type": "display_data",
          "data": {
            "image/png": "[encoded data removed]",
            "text/plain": [
              "<Figure size 432x288 with 1 Axes>"
            ]
          },
          "metadata": {
            "tags": [],
            "needs_background": "light"
          }
        }
      ]
    },
    {
      "cell_type": "code",
      "metadata": {
        "id": "E-lrVaEUA-A1",
        "outputId": "5b4c4be2-8f76-40c2-fabc-7f26a590139b"
      },
      "source": [
        "\n",
        "exp=sot.groupby('education').sum().sick\n",
        "exp=pd.DataFrame(exp)\n",
        "exp['num']=sot.groupby('education').nunique().hash_tab_num\n",
        "exp['q']=exp.sick/exp.num\n",
        "plt.bar(exp.index, exp.q)\n",
        "plt.xticks(rotation=90)\n",
        "plt.show()"
      ],
      "execution_count": null,
      "outputs": [
        {
          "output_type": "display_data",
          "data": {
            "image/png": "[encoded data removed]",
            "text/plain": [
              "<Figure size 432x288 with 1 Axes>"
            ]
          },
          "metadata": {
            "tags": [],
            "needs_background": "light"
          }
        }
      ]
    },
    {
      "cell_type": "code",
      "metadata": {
        "id": "igPybb0QA-A1",
        "outputId": "d64322bc-5b1c-4973-eb3b-2930d9dae390"
      },
      "source": [
        "durations=sot.describe().home_to_work_duration[4:].tolist()\n",
        "durations"
      ],
      "execution_count": null,
      "outputs": [
        {
          "output_type": "execute_result",
          "data": {
            "text/plain": [
              "[6.463333333333334, 7.23, 8.136666666666667, 9.888333333333332]"
            ]
          },
          "metadata": {
            "tags": []
          },
          "execution_count": 123
        }
      ]
    },
    {
      "cell_type": "code",
      "metadata": {
        "id": "ssVfGr-PA-A2",
        "outputId": "c61d1f0d-00a9-4f03-c47e-3a12b3dee94e"
      },
      "source": [
        "sot.describe().home_to_work_duration"
      ],
      "execution_count": null,
      "outputs": [
        {
          "output_type": "execute_result",
          "data": {
            "text/plain": [
              "count    89528.000000\n",
              "mean         7.194537\n",
              "std          1.495198\n",
              "min          3.113333\n",
              "25%          6.463333\n",
              "50%          7.230000\n",
              "75%          8.136667\n",
              "max          9.888333\n",
              "Name: home_to_work_duration, dtype: float64"
            ]
          },
          "metadata": {
            "tags": []
          },
          "execution_count": 113
        }
      ]
    },
    {
      "cell_type": "code",
      "metadata": {
        "id": "iUscbe-OA-A2",
        "outputId": "5bcea3d1-04b8-4d92-a816-f5caac9cdb20"
      },
      "source": [
        "sot.info()"
      ],
      "execution_count": null,
      "outputs": [
        {
          "output_type": "stream",
          "text": [
            "<class 'pandas.core.frame.DataFrame'>\n",
            "RangeIndex: 99214 entries, 0 to 99213\n",
            "Data columns (total 23 columns):\n",
            " #   Column                   Non-Null Count  Dtype  \n",
            "---  ------                   --------------  -----  \n",
            " 0   hash_tab_num             99214 non-null  int64  \n",
            " 1   date                     99214 non-null  object \n",
            " 2   date_of_birth            99214 non-null  int64  \n",
            " 3   is_local                 99214 non-null  int64  \n",
            " 4   gender                   99214 non-null  object \n",
            " 5   category                 97944 non-null  object \n",
            " 6   name_post_lvl4           66188 non-null  object \n",
            " 7   name_post_lvl5           54222 non-null  object \n",
            " 8   prof_post_augment        97944 non-null  object \n",
            " 9   razryad_post             99214 non-null  int64  \n",
            " 10  name_fact_lvl4           66150 non-null  object \n",
            " 11  name_fact_lvl5           54188 non-null  object \n",
            " 12  prof_fact_augment        99214 non-null  object \n",
            " 13  razryad_fact             99214 non-null  int64  \n",
            " 14  married                  86724 non-null  object \n",
            " 15  child_num                99214 non-null  int64  \n",
            " 16  work_experience_company  91553 non-null  float64\n",
            " 17  work_experience_factory  91553 non-null  float64\n",
            " 18  work_experience_all      91553 non-null  float64\n",
            " 19  education                99034 non-null  object \n",
            " 20  sick                     99214 non-null  int64  \n",
            " 21  home_to_work_distance    89528 non-null  float64\n",
            " 22  home_to_work_duration    89528 non-null  float64\n",
            "dtypes: float64(5), int64(7), object(11)\n",
            "memory usage: 17.4+ MB\n"
          ],
          "name": "stdout"
        }
      ]
    },
    {
      "cell_type": "code",
      "metadata": {
        "id": "QtOlfJBGA-A2",
        "outputId": "22134d5b-6e4e-4dc4-c1c7-5dafd26fa172"
      },
      "source": [
        "duration=pd.DataFrame(sot.groupby('hash_tab_num').mean().home_to_work_duration)\n",
        "duration['quant']=0\n",
        "duration.loc[duration.home_to_work_duration<durations[0], 'quant']=1\n",
        "duration.loc[(duration.home_to_work_duration>=durations[0])&(duration.home_to_work_duration<durations[1]), 'quant']=2\n",
        "duration.loc[(duration.home_to_work_duration>=durations[1])&(duration.home_to_work_duration<durations[2]), 'quant']=3\n",
        "duration.loc[(duration.home_to_work_duration>=durations[2]), 'quant']=4\n",
        "duration['sick']=sot.groupby('hash_tab_num').sum().sick\n",
        "duration['counter']=1\n",
        "quant=duration.groupby('quant').sum()\n",
        "quant['q']=quant.sick/quant.counter\n",
        "quant"
      ],
      "execution_count": null,
      "outputs": [
        {
          "output_type": "execute_result",
          "data": {
            "text/html": [
              "<div>\n",
              "<style scoped>\n",
              "    .dataframe tbody tr th:only-of-type {\n",
              "        vertical-align: middle;\n",
              "    }\n",
              "\n",
              "    .dataframe tbody tr th {\n",
              "        vertical-align: top;\n",
              "    }\n",
              "\n",
              "    .dataframe thead th {\n",
              "        text-align: right;\n",
              "    }\n",
              "</style>\n",
              "<table border=\"1\" class=\"dataframe\">\n",
              "  <thead>\n",
              "    <tr style=\"text-align: right;\">\n",
              "      <th></th>\n",
              "      <th>home_to_work_duration</th>\n",
              "      <th>sick</th>\n",
              "      <th>counter</th>\n",
              "      <th>q</th>\n",
              "    </tr>\n",
              "    <tr>\n",
              "      <th>quant</th>\n",
              "      <th></th>\n",
              "      <th></th>\n",
              "      <th></th>\n",
              "      <th></th>\n",
              "    </tr>\n",
              "  </thead>\n",
              "  <tbody>\n",
              "    <tr>\n",
              "      <th>0</th>\n",
              "      <td>0.000000</td>\n",
              "      <td>1010</td>\n",
              "      <td>363</td>\n",
              "      <td>2.782369</td>\n",
              "    </tr>\n",
              "    <tr>\n",
              "      <th>1</th>\n",
              "      <td>2955.491667</td>\n",
              "      <td>2750</td>\n",
              "      <td>576</td>\n",
              "      <td>4.774306</td>\n",
              "    </tr>\n",
              "    <tr>\n",
              "      <th>2</th>\n",
              "      <td>3751.320000</td>\n",
              "      <td>2634</td>\n",
              "      <td>546</td>\n",
              "      <td>4.824176</td>\n",
              "    </tr>\n",
              "    <tr>\n",
              "      <th>3</th>\n",
              "      <td>4468.640000</td>\n",
              "      <td>2683</td>\n",
              "      <td>578</td>\n",
              "      <td>4.641869</td>\n",
              "    </tr>\n",
              "    <tr>\n",
              "      <th>4</th>\n",
              "      <td>5333.646667</td>\n",
              "      <td>2670</td>\n",
              "      <td>590</td>\n",
              "      <td>4.525424</td>\n",
              "    </tr>\n",
              "  </tbody>\n",
              "</table>\n",
              "</div>"
            ],
            "text/plain": [
              "       home_to_work_duration  sick  counter         q\n",
              "quant                                                \n",
              "0                   0.000000  1010      363  2.782369\n",
              "1                2955.491667  2750      576  4.774306\n",
              "2                3751.320000  2634      546  4.824176\n",
              "3                4468.640000  2683      578  4.641869\n",
              "4                5333.646667  2670      590  4.525424"
            ]
          },
          "metadata": {
            "tags": []
          },
          "execution_count": 146
        }
      ]
    },
    {
      "cell_type": "code",
      "metadata": {
        "id": "08G9j_csA-A3",
        "outputId": "be741e5c-062b-490d-e7d0-988466bbf4e0"
      },
      "source": [
        "plt.bar(quant.index, quant.q)\n",
        "plt.xticks(rotation=90)\n",
        "plt.show()"
      ],
      "execution_count": null,
      "outputs": [
        {
          "output_type": "display_data",
          "data": {
            "image/png": "[encoded data removed]",
            "text/plain": [
              "<Figure size 432x288 with 1 Axes>"
            ]
          },
          "metadata": {
            "tags": [],
            "needs_background": "light"
          }
        }
      ]
    },
    {
      "cell_type": "code",
      "metadata": {
        "id": "-NGxu3MRA-A3",
        "outputId": "deb1ea53-05ec-48a6-df1d-dbe718132767"
      },
      "source": [
        "durations=sot.describe().home_to_work_distance[4:].tolist()\n",
        "durations"
      ],
      "execution_count": null,
      "outputs": [
        {
          "output_type": "execute_result",
          "data": {
            "text/plain": [
              "[4171.8, 4953.5, 5293.5, 5995.3]"
            ]
          },
          "metadata": {
            "tags": []
          },
          "execution_count": 149
        }
      ]
    },
    {
      "cell_type": "code",
      "metadata": {
        "id": "6lwSRoaQA-A4",
        "outputId": "3a116038-99d7-429a-b957-0a156ca5145e"
      },
      "source": [
        "duration=pd.DataFrame(sot.groupby('hash_tab_num').mean().home_to_work_distance)\n",
        "duration['quant']=0\n",
        "duration.loc[duration.home_to_work_distance<durations[0], 'quant']=1\n",
        "duration.loc[(duration.home_to_work_distance>=durations[0])&(duration.home_to_work_distance<durations[1]), 'quant']=2\n",
        "duration.loc[(duration.home_to_work_distance>=durations[1])&(duration.home_to_work_distance<durations[2]), 'quant']=3\n",
        "duration.loc[(duration.home_to_work_distance>=durations[2]), 'quant']=4\n",
        "duration['sick']=sot.groupby('hash_tab_num').sum().sick\n",
        "duration['counter']=1\n",
        "quant=duration.groupby('quant').sum()\n",
        "quant['q']=quant.sick/quant.counter\n",
        "quant"
      ],
      "execution_count": null,
      "outputs": [
        {
          "output_type": "execute_result",
          "data": {
            "text/html": [
              "<div>\n",
              "<style scoped>\n",
              "    .dataframe tbody tr th:only-of-type {\n",
              "        vertical-align: middle;\n",
              "    }\n",
              "\n",
              "    .dataframe tbody tr th {\n",
              "        vertical-align: top;\n",
              "    }\n",
              "\n",
              "    .dataframe thead th {\n",
              "        text-align: right;\n",
              "    }\n",
              "</style>\n",
              "<table border=\"1\" class=\"dataframe\">\n",
              "  <thead>\n",
              "    <tr style=\"text-align: right;\">\n",
              "      <th></th>\n",
              "      <th>home_to_work_distance</th>\n",
              "      <th>sick</th>\n",
              "      <th>counter</th>\n",
              "      <th>q</th>\n",
              "    </tr>\n",
              "    <tr>\n",
              "      <th>quant</th>\n",
              "      <th></th>\n",
              "      <th></th>\n",
              "      <th></th>\n",
              "      <th></th>\n",
              "    </tr>\n",
              "  </thead>\n",
              "  <tbody>\n",
              "    <tr>\n",
              "      <th>0</th>\n",
              "      <td>0.0</td>\n",
              "      <td>1010</td>\n",
              "      <td>363</td>\n",
              "      <td>2.782369</td>\n",
              "    </tr>\n",
              "    <tr>\n",
              "      <th>1</th>\n",
              "      <td>1986440.7</td>\n",
              "      <td>2795</td>\n",
              "      <td>584</td>\n",
              "      <td>4.785959</td>\n",
              "    </tr>\n",
              "    <tr>\n",
              "      <th>2</th>\n",
              "      <td>1926449.9</td>\n",
              "      <td>1799</td>\n",
              "      <td>412</td>\n",
              "      <td>4.366505</td>\n",
              "    </tr>\n",
              "    <tr>\n",
              "      <th>3</th>\n",
              "      <td>2932366.6</td>\n",
              "      <td>2869</td>\n",
              "      <td>582</td>\n",
              "      <td>4.929553</td>\n",
              "    </tr>\n",
              "    <tr>\n",
              "      <th>4</th>\n",
              "      <td>3909956.3</td>\n",
              "      <td>3274</td>\n",
              "      <td>712</td>\n",
              "      <td>4.598315</td>\n",
              "    </tr>\n",
              "  </tbody>\n",
              "</table>\n",
              "</div>"
            ],
            "text/plain": [
              "       home_to_work_distance  sick  counter         q\n",
              "quant                                                \n",
              "0                        0.0  1010      363  2.782369\n",
              "1                  1986440.7  2795      584  4.785959\n",
              "2                  1926449.9  1799      412  4.366505\n",
              "3                  2932366.6  2869      582  4.929553\n",
              "4                  3909956.3  3274      712  4.598315"
            ]
          },
          "metadata": {
            "tags": []
          },
          "execution_count": 151
        }
      ]
    },
    {
      "cell_type": "code",
      "metadata": {
        "id": "jVr0cGhoA-A4",
        "outputId": "a5c16ffd-7e1f-40fe-e163-1e17920d596a"
      },
      "source": [
        "plt.bar(quant.index, quant.q)\n",
        "plt.xticks(rotation=90)\n",
        "plt.show()"
      ],
      "execution_count": null,
      "outputs": [
        {
          "output_type": "display_data",
          "data": {
            "image/png": "[encoded data removed]",
            "text/plain": [
              "<Figure size 432x288 with 1 Axes>"
            ]
          },
          "metadata": {
            "tags": [],
            "needs_background": "light"
          }
        }
      ]
    },
    {
      "cell_type": "markdown",
      "metadata": {
        "id": "6CRKJU73A-A4"
      },
      "source": [
        "1. Совсем взрослые сотрудники (70+) и совем молодые(<23) берут больничные реже\n",
        "\n",
        "3. name_post_lvl4 во втором отделении берут редко, в 9 и 6 чаще всего\n",
        "4. name_post_lvl5 gthtltk 10 - берут в 2 раза реже среднего, в 15 и 5 - в 2 раза чаще\n",
        "5. prof_post_augment влияет очень сильно, нужно скластеризовать хай и лоу рискам, так как их много\n",
        "6. razryad_post влияет сильно, возможно это скореллировано с возрастом. можно сгруппировать по 0-2 и 3-6\n",
        "7. married вдов сильно влияет, эту категорию точно включать\n",
        "8. child_num люди без детей берут гораздо реже\n",
        "9. Опыт работы в целом не сильно влияет имхо\n",
        "10. education проф образование кластеризовать и в фичи, оно влияет из-за типа работы"
      ]
    }
  ]
}